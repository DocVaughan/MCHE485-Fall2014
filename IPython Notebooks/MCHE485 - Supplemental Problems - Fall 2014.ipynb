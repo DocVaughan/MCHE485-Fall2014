{
 "metadata": {
  "name": "",
  "signature": "sha256:0bf0a6019087049b221d6f883756ce62c4d2a17e16a72a81068b55d2fef5d904"
 },
 "nbformat": 3,
 "nbformat_minor": 0,
 "worksheets": [
  {
   "cells": [
    {
     "cell_type": "markdown",
     "metadata": {},
     "source": [
      "<h1 style=\"text-align:center\">Supplemental Problem Helper</h1>\n",
      "<h3 style=\"text-align:center\"> MCHE 485: Mechanical Vibrations &mdash; Fall 2014</h3>\n",
      "<p style=\"text-align:center\">Dr. Joshua Vaughan <br>\n",
      "<a href=\"mailto:joshua.vaughan@louisiana.edu\">joshua.vaughan@louisiana.edu</a><br>\n",
      "http://www.ucs.louisiana.edu/~jev9637/   </p>  "
     ]
    },
    {
     "cell_type": "code",
     "collapsed": false,
     "input": [
      "import numpy as np"
     ],
     "language": "python",
     "metadata": {},
     "outputs": [],
     "prompt_number": 1
    },
    {
     "cell_type": "code",
     "collapsed": false,
     "input": [
      "%matplotlib inline\n",
      "\n",
      "# Import the plotting functions \n",
      "#  Note: Using the 'from module import *' notation is usually a bad idea. \n",
      "from matplotlib.pyplot import *"
     ],
     "language": "python",
     "metadata": {},
     "outputs": [],
     "prompt_number": 2
    },
    {
     "cell_type": "markdown",
     "metadata": {},
     "source": [
      "## Problem 2.54"
     ]
    },
    {
     "cell_type": "code",
     "collapsed": false,
     "input": [
      "wn_sq = 60.0\n",
      "damp_term = 0.4\n",
      "w = 1.0\n",
      "f_bar_m = 0.8\n",
      "\n",
      "x_r = f_bar_m * (wn_sq - w**2) / ((wn_sq - w**2) + (damp_term * w)**2)\n",
      "x_i = -f_bar_m * (damp_term * w) / ((wn_sq - w**2) + (damp_term * w)**2)\n",
      "\n",
      "print ''\n",
      "print 'If we assume that w=1, then the response is {:0.4f}sin(t) + {:0.4f}cos(t)'.format(x_r, x_i)\n",
      "print ''"
     ],
     "language": "python",
     "metadata": {},
     "outputs": [
      {
       "output_type": "stream",
       "stream": "stdout",
       "text": [
        "\n",
        "If we assume that w=1, then the response is 0.7978sin(t) + -0.0054cos(t)\n",
        "\n"
       ]
      }
     ],
     "prompt_number": 3
    },
    {
     "cell_type": "markdown",
     "metadata": {},
     "source": [
      "## Problem 2.62"
     ]
    },
    {
     "cell_type": "code",
     "collapsed": false,
     "input": [
      "k = 12000.0\n",
      "m = 20.0\n",
      "z = 0.001\n",
      "wn = np.sqrt(k/m)\n",
      "\n",
      "y_bar = 0.01\n",
      "w = 1.25\n",
      "\n",
      "\n",
      "tf_mag = np.sqrt((wn**4 + (2*z*w*wn)**2) / ((wn**2 - w**2)**2+(2*z*w*wn)**2))\n",
      "phase = (np.arctan2(2*z*w,wn) - np.arctan2((2*z*w*wn),(wn**2 - w**2)))*180/np.pi\n",
      "\n",
      "response_mag = tf_mag * y_bar\n",
      "\n",
      "print ''\n",
      "print 'The transfer function magnitude is {:0.8f}'.format(tf_mag)\n",
      "print 'The response magnitude is {:0.8f}m'.format(response_mag)\n",
      "print ''"
     ],
     "language": "python",
     "metadata": {},
     "outputs": [
      {
       "output_type": "stream",
       "stream": "stdout",
       "text": [
        "\n",
        "The transfer function magnitude is 1.00261097\n",
        "The response magnitude is 0.01002611m\n",
        "\n"
       ]
      }
     ],
     "prompt_number": 4
    },
    {
     "cell_type": "markdown",
     "metadata": {},
     "source": [
      "## Problem 2.63"
     ]
    },
    {
     "cell_type": "code",
     "collapsed": false,
     "input": [
      "k = 100.0\n",
      "m = 1.0\n",
      "c = 10.0\n",
      "\n",
      "wn = np.sqrt(k/m)\n",
      "z = c / (2*wn*m)\n",
      "\n",
      "y_bar = 0.005\n",
      "w = 50.0\n",
      "\n",
      "\n",
      "tf_mag = np.sqrt((wn**4 + (2*z*w*wn)**2) / ((wn**2 - w**2)**2+(2*z*w*wn)**2))\n",
      "phase = (np.arctan2(2*z*w,wn) - np.arctan2((2*z*w*wn),(wn**2 - w**2)))*180/np.pi\n",
      "\n",
      "response_mag = tf_mag * y_bar\n",
      "\n",
      "print ''\n",
      "print 'The transfer function magnitude is {:0.4f}.'.format(tf_mag)\n",
      "print 'The response magnitude is {:0.4f}m.'.format(response_mag)\n",
      "print ''\n",
      "\n",
      "# The acceleration reponse is just w^2 times the position resposnse\n",
      "print ''\n",
      "print 'The acceleration response magnitude is {:0.4f}m/s^2'.format(w**2 * response_mag)\n",
      "print ''"
     ],
     "language": "python",
     "metadata": {},
     "outputs": [
      {
       "output_type": "stream",
       "stream": "stdout",
       "text": [
        "\n",
        "The transfer function magnitude is 0.2080.\n",
        "The response magnitude is 0.0010m.\n",
        "\n",
        "\n",
        "The acceleration response magnitude is 2.5999m/s^2\n",
        "\n"
       ]
      }
     ],
     "prompt_number": 5
    },
    {
     "cell_type": "markdown",
     "metadata": {},
     "source": [
      "## Problem 2.64"
     ]
    },
    {
     "cell_type": "code",
     "collapsed": false,
     "input": [
      "# Case 1 - No damping\n",
      "k = 0.0\n",
      "m = 1.0\n",
      "c = 10.0\n",
      "\n",
      "wn = np.sqrt(k/m)\n",
      "z = c / (2*wn*m)\n",
      "\n",
      "y_bar = 0.005\n",
      "w = 50.0\n",
      "\n",
      "\n",
      "tf_mag_noSpring = np.sqrt(((c*w)**2) / ((-m*w**2)**2+(c*w)**2))\n",
      "phase_noSpring = (np.arctan2(c*w,1) - np.arctan2(c,-m*w))*180/np.pi\n",
      "\n",
      "response_mag_noSpring = tf_mag_noSpring * y_bar\n",
      "\n",
      "print ''\n",
      "print 'Without spring:'\n",
      "print '----------------'\n",
      "print 'The transfer function magnitude is {:0.4f}.'.format(tf_mag_noSpring)\n",
      "print 'The response magnitude is {:0.4f}m.'.format(response_mag_noSpring)\n",
      "print ''\n",
      "\n",
      "# The acceleration reponse is just w^2 times the position resposnse\n",
      "print ''\n",
      "print 'The acceleration response magnitude is {:0.4f}m/s^2'.format(w**2 * response_mag_noSpring)\n",
      "print ''\n",
      "\n",
      "\n",
      "# Case 2 - No spring\n",
      "k = 100.0\n",
      "m = 1.0\n",
      "c = 0.0\n",
      "\n",
      "wn = np.sqrt(k/m)\n",
      "z = c / (2*wn*m)\n",
      "\n",
      "y_bar = 0.005\n",
      "w = 50.0\n",
      "\n",
      "\n",
      "tf_mag_noDamp = np.sqrt((wn**4 + (2*z*w*wn)**2) / ((wn**2 - w**2)**2+(2*z*w*wn)**2))\n",
      "phase_noDamp = (np.arctan2(2*z*w,wn) - np.arctan2((2*z*w*wn),(wn**2 - w**2)))*180/np.pi\n",
      "\n",
      "response_mag_noDamp = tf_mag_noDamp * y_bar\n",
      "\n",
      "print ''\n",
      "print 'Without damping:'\n",
      "print '----------------'\n",
      "print 'The transfer function magnitude is {:0.4f}.'.format(tf_mag_noDamp)\n",
      "print 'The response magnitude is {:0.4f}m.'.format(response_mag_noDamp)\n",
      "print ''\n",
      "\n",
      "# The acceleration reponse is just w^2 times the position resposnse\n",
      "print ''\n",
      "print 'The acceleration response magnitude is {:0.4f}m/s^2'.format(w**2 * response_mag_noDamp)\n",
      "print ''"
     ],
     "language": "python",
     "metadata": {},
     "outputs": [
      {
       "output_type": "stream",
       "stream": "stdout",
       "text": [
        "\n",
        "Without spring:\n",
        "----------------\n",
        "The transfer function magnitude is 0.1961.\n",
        "The response magnitude is 0.0010m.\n",
        "\n",
        "\n",
        "The acceleration response magnitude is 2.4515m/s^2\n",
        "\n",
        "\n",
        "Without damping:\n",
        "----------------\n",
        "The transfer function magnitude is 0.0417.\n",
        "The response magnitude is 0.0002m.\n",
        "\n",
        "\n",
        "The acceleration response magnitude is 0.5208m/s^2\n",
        "\n"
       ]
      },
      {
       "output_type": "stream",
       "stream": "stderr",
       "text": [
        "-c:7: RuntimeWarning: divide by zero encountered in double_scalars\n"
       ]
      }
     ],
     "prompt_number": 6
    },
    {
     "cell_type": "markdown",
     "metadata": {},
     "source": [
      "## Problem 2.65"
     ]
    },
    {
     "cell_type": "code",
     "collapsed": false,
     "input": [
      "k = 12000.0\n",
      "m = 20.0\n",
      "z = 0.01\n",
      "wn = np.sqrt(k / m)\n",
      "\n",
      "y_bar = 0.01\n",
      "w = 1.25\n",
      "\n",
      "\n",
      "tf_mag = np.sqrt((wn**4 + (2*z*w*wn)**2) / ((wn**2 - w**2)**2 + (2*z*w*wn)**2))\n",
      "phase = (np.arctan2(2*z*w,wn) - np.arctan2((2*z*w*wn),(wn**2 - w**2)))*180/np.pi\n",
      "\n",
      "response_mag = tf_mag * y_bar\n",
      "\n",
      "print ''\n",
      "print 'The transfer function magnitude is {:0.8f}.'.format(tf_mag)\n",
      "print 'The response magnitude is {:0.8f}m'.format(response_mag)\n",
      "print ''"
     ],
     "language": "python",
     "metadata": {},
     "outputs": [
      {
       "output_type": "stream",
       "stream": "stdout",
       "text": [
        "\n",
        "The transfer function magnitude is 1.00261096.\n",
        "The response magnitude is 0.01002611m\n",
        "\n"
       ]
      }
     ],
     "prompt_number": 7
    },
    {
     "cell_type": "markdown",
     "metadata": {},
     "source": [
      "## Problem 2.66"
     ]
    },
    {
     "cell_type": "code",
     "collapsed": false,
     "input": [
      "w = np.linspace(0,5,500)            # Frequency range for freq response plot, 0-4 Omega with 500 points in-between\n",
      "alpha = 0.5\n",
      "\n",
      "# Let's examine a few different damping ratios using the normalized form\n",
      "z = 0.1\n",
      "mag_normal_orig = 1/(k*np.sqrt((1 - w**2)**2 + (2*z*w)**2))\n",
      "phase_orig = -np.arctan2((2*z*w),(1 - w**2)) * 180/np.pi\n",
      "\n",
      "z = alpha * z\n",
      "mag_normal_new = 1/(k*np.sqrt((1 - w**2)**2 + (2*z*w)**2))\n",
      "phase_new = -np.arctan2((2*z*w),(1 - w**2)) * 180/np.pi\n",
      "\n",
      "orig_peak = np.max(mag_normal_orig)\n",
      "new_peak = np.max(mag_normal_new)\n",
      "\n",
      "diff = orig_peak / new_peak\n",
      "\n",
      "print 'The original peak is {:0.4f}.'.format(orig_peak)\n",
      "print 'The new peak is {:0.4f}.'.format(new_peak)\n",
      "print 'The difference in peaks for alpha = {} is {:0.4f}.'.format(alpha, diff)"
     ],
     "language": "python",
     "metadata": {},
     "outputs": [
      {
       "output_type": "stream",
       "stream": "stdout",
       "text": [
        "The original peak is 0.0004.\n",
        "The new peak is 0.0008.\n",
        "The difference in peaks for alpha = 0.5 is 0.5038.\n"
       ]
      }
     ],
     "prompt_number": 8
    },
    {
     "cell_type": "code",
     "collapsed": false,
     "input": [
      "# Make the figure pretty, then plot the results\n",
      "#   \"pretty\" parameters selected based on pdf output, not screen output\n",
      "#   Many of these setting could also be made default by the .matplotlibrc file\n",
      "fig = figure(figsize=(6,4))\n",
      "ax = gca()\n",
      "subplots_adjust(bottom=0.17,left=0.17,top=0.96,right=0.96)\n",
      "setp(ax.get_ymajorticklabels(),family='Serif',fontsize=18)\n",
      "setp(ax.get_xmajorticklabels(),family='Serif',fontsize=18)\n",
      "ax.spines['right'].set_color('none')\n",
      "ax.spines['top'].set_color('none')\n",
      "ax.xaxis.set_ticks_position('bottom')\n",
      "ax.yaxis.set_ticks_position('left')\n",
      "ax.grid(True,linestyle=':',color='0.75')\n",
      "ax.set_axisbelow(True)\n",
      "\n",
      "xlabel(r'Normalized Frequency ($\\Omega$)',family='Serif',fontsize=22,weight='bold',labelpad=5)\n",
      "ylabel(r'$k |G(\\Omega)|$',family='Serif',fontsize=22,weight='bold',labelpad=35)\n",
      "\n",
      "plot(w, k*mag_normal_orig, linewidth=2, label=r'Original')\n",
      "plot(w, k*mag_normal_new, linewidth=2, linestyle = '-.', label=r'$\\zeta = \\alpha \\zeta$')\n",
      "\n",
      "xlim(0,5)\n",
      "ylim(0,np.ceil(np.max(k*mag_normal_new)))\n",
      "\n",
      "leg = legend(loc='upper right', fancybox=True)\n",
      "ltext  = leg.get_texts()\n",
      "setp(ltext,family='Serif',fontsize=16)\n",
      "\n",
      "# save the figure as a high-res pdf in the current folder\n",
      "# savefig('Forced_Freq_Resp_mag.pdf',dpi=300)\n",
      "\n",
      "fig.set_size_inches(9,6) # Resize the figure for better display in the notebook"
     ],
     "language": "python",
     "metadata": {},
     "outputs": [
      {
       "metadata": {},
       "output_type": "display_data",
       "png": "[encoded data removed]",
       "text": [
        "<matplotlib.figure.Figure at 0x10f0ae8d0>"
       ]
      }
     ],
     "prompt_number": 9
    }
   ],
   "metadata": {}
  }
 ]
}