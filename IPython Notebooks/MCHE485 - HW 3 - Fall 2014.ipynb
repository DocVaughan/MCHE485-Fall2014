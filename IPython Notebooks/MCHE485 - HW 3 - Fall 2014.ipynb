{
 "metadata": {
  "name": "",
  "signature": "sha256:aaae3df030452150de75358057403402071aa55ea4f503be9d54376176f06085"
 },
 "nbformat": 3,
 "nbformat_minor": 0,
 "worksheets": [
  {
   "cells": [
    {
     "cell_type": "markdown",
     "metadata": {},
     "source": [
      "<h1 style=\"text-align:center\">Homework 3 Helper</h1>\n",
      "<h3 style=\"text-align:center\"> MCHE 485: Mechanical Vibrations &mdash; Fall 2014</h3>\n",
      "<p style=\"text-align:center\">Dr. Joshua Vaughan <br>\n",
      "<a href=\"mailto:joshua.vaughan@louisiana.edu\">joshua.vaughan@louisiana.edu</a><br>\n",
      "http://www.ucs.louisiana.edu/~jev9637/   </p>  "
     ]
    },
    {
     "cell_type": "code",
     "collapsed": false,
     "input": [
      "import numpy as np"
     ],
     "language": "python",
     "metadata": {},
     "outputs": [],
     "prompt_number": 1
    },
    {
     "cell_type": "code",
     "collapsed": false,
     "input": [
      "%matplotlib inline\n",
      "\n",
      "# Import the plotting functions \n",
      "#  Note: Using the 'from module import *' notation is usually a bad idea. \n",
      "from matplotlib.pyplot import *"
     ],
     "language": "python",
     "metadata": {},
     "outputs": [],
     "prompt_number": 2
    },
    {
     "cell_type": "markdown",
     "metadata": {},
     "source": [
      "## Problem 2.1"
     ]
    },
    {
     "cell_type": "code",
     "collapsed": false,
     "input": [
      "k = 10000    # Spring Constant\n",
      "c = 15.0     # Damping coefficient\n",
      "m = 1.0      # Mass\n",
      "\n",
      "# Define the natural frequency \n",
      "wn = np.sqrt(k/m)\n",
      "\n",
      "# Current damping ratio\n",
      "z = c/(2*m*wn)\n",
      "print '\\nThe initial damping ratio is {:0.4f}.\\n'.format(z)\n",
      "\n",
      "# Solve for the current settling time, using the decay envelope\n",
      "ts_current = np.log(0.02)/np.log(np.exp(-z*wn))\n",
      "\n",
      "print 'The current settling time is {:0.4f} seconds.\\n'.format(ts_current)"
     ],
     "language": "python",
     "metadata": {},
     "outputs": [
      {
       "output_type": "stream",
       "stream": "stdout",
       "text": [
        "\n",
        "The initial damping ratio is 0.0750.\n",
        "\n",
        "The current settling time is 0.5216 seconds.\n",
        "\n"
       ]
      }
     ],
     "prompt_number": 3
    },
    {
     "cell_type": "code",
     "collapsed": false,
     "input": [
      "# Now, we can calcualte the necessary damping ratio, and from that, calculate the damping coeff.\n",
      "\n",
      "# The new settling time should be 0.3*ts_current\n",
      "ts_new = ts_current * 0.3\n",
      "\n",
      "z_new = np.log(0.02)/np.log(np.exp(-wn * ts_new))\n",
      "print '\\nThe needed damping raio is {:0.2f}.\\n'.format(z_new)\n",
      "\n",
      "c_new = 2*z_new*wn*m\n",
      "\n",
      "print 'This result in a damping coeffcient of {:0.2f} Ns/m.\\n'.format(c_new)"
     ],
     "language": "python",
     "metadata": {},
     "outputs": [
      {
       "output_type": "stream",
       "stream": "stdout",
       "text": [
        "\n",
        "The needed damping raio is 0.25.\n",
        "\n",
        "This result in a damping coeffcient of 50.00 Ns/m.\n",
        "\n"
       ]
      }
     ],
     "prompt_number": 4
    },
    {
     "cell_type": "markdown",
     "metadata": {},
     "source": [
      "## Problem 2.9"
     ]
    },
    {
     "cell_type": "code",
     "collapsed": false,
     "input": [
      "# Let's use the symbolic toolbox Sympy (http://sympy.org) to check our answer here\n",
      "import sympy \n",
      "sympy.init_printing() # initialize \"pretty\" printing for sympy\n",
      "\n",
      "x_bar = 2.0\n",
      "y_bar = 1.1\n",
      "w = 300.0\n",
      "\n",
      "tf_amp = x_bar / y_bar\n",
      "\n",
      "\n",
      "wn = sympy.symbols('\\omega_n')\n",
      "\n",
      "tf = wn**2/(wn**2 - w**2)\n",
      "\n",
      "nat_freq = sympy.solve(tf - tf_amp, wn)\n",
      "\n",
      "x_eq = 1/nat_freq[1]**2*9.81\n",
      "\n",
      "print '\\nThe natural frequency is {} rad/s.\\n'.format(sympy.Float(nat_freq[1],4))\n",
      "print 'This results in a static deflection {}mm.\\n'.format(sympy.Float(x_eq,4)*1000)"
     ],
     "language": "python",
     "metadata": {},
     "outputs": [
      {
       "output_type": "stream",
       "stream": "stdout",
       "text": [
        "\n",
        "The natural frequency is 447.2 rad/s.\n",
        "\n",
        "This results in a static deflection 0.04905mm.\n",
        "\n"
       ]
      }
     ],
     "prompt_number": 5
    },
    {
     "cell_type": "markdown",
     "metadata": {},
     "source": [
      "## Problem 2.29"
     ]
    },
    {
     "cell_type": "code",
     "collapsed": false,
     "input": [
      "m = 5.0\n",
      "k = 20000.0\n",
      "wn = np.sqrt(k/m)\n",
      "\n",
      "f_bar = 20.0\n",
      "\n",
      "\n",
      "w = np.linspace(45,80,1000)\n",
      "\n",
      "G = (f_bar/m) / (wn**2 - w**2)\n",
      "\n",
      "# Let's mask the discontinuity, so it isn't plotted\n",
      "pos = np.where(np.abs(G*1000) >= 50)\n",
      "G[pos] = np.nan\n",
      "w[pos] = np.nan\n",
      "\n",
      "\n",
      "# Set the plot size - 3x2 aspect ratio is best\n",
      "fig = figure(figsize=(6,4))\n",
      "ax = gca()\n",
      "subplots_adjust(bottom=0.17,left=0.17,top=0.96,right=0.96)\n",
      "\n",
      "# Change the axis units to serif\n",
      "setp(ax.get_ymajorticklabels(),family='serif',fontsize=18)\n",
      "setp(ax.get_xmajorticklabels(),family='serif',fontsize=18)\n",
      "\n",
      "ax.spines['right'].set_color('none')\n",
      "ax.spines['top'].set_color('none')\n",
      "\n",
      "ax.xaxis.set_ticks_position('bottom')\n",
      "ax.yaxis.set_ticks_position('left')\n",
      "\n",
      "# Turn on the plot grid and set appropriate linestyle and color\n",
      "ax.grid(True,linestyle=':',color='0.75')\n",
      "ax.set_axisbelow(True)\n",
      "\n",
      "# Define the X and Y axis labels\n",
      "xlabel('Input Frequency (rad/s)',family='serif',fontsize=22,weight='bold',labelpad=5)\n",
      "ylabel('Response Amp. (mm)',family='serif',fontsize=22,weight='bold',labelpad=10)\n",
      "\n",
      "plot(w,G*1000,linewidth=2,label=r'Response')\n",
      "plot([45,80],[20,20],linewidth=2,linestyle=\"--\", color = 'black', label=r'Limits')\n",
      "plot([45,80],[-20,-20],linewidth=2,linestyle=\"--\", color = 'black')#, label=r'Lower Limit')\n",
      "\n",
      "\n",
      "annotate(r'$\\omega \\leq 61.64$',\n",
      "         xy=(61.64,20), xycoords='data',\n",
      "         xytext=(-150, +30), textcoords='offset points', fontsize=18,\n",
      "         arrowprops=dict(arrowstyle=\"simple, head_width = 0.35, tail_width=0.05\", connectionstyle=\"arc3,rad=-.2\", color=\"blue\"),color = \"blue\")\n",
      "\n",
      "annotate(r'$\\omega \\geq 64.81$',\n",
      "         xy=(64.81,-20), xycoords='data',\n",
      "         xytext=(+50, -30), textcoords='offset points', fontsize=18,\n",
      "         arrowprops=dict(arrowstyle=\"simple, head_width = 0.35, tail_width=0.05\", connectionstyle=\"arc3,rad=-.2\", color=\"blue\"),color = \"blue\")\n",
      "\n",
      "\n",
      "\n",
      "\n",
      "# uncomment below and set limits if needed\n",
      "# xlim(0,5)\n",
      "ylim(-50,50)\n",
      "\n",
      "# Create the legend, then fix the fontsize\n",
      "leg = legend(loc='upper right', fancybox=True)\n",
      "ltext  = leg.get_texts()\n",
      "setp(ltext,family='serif',fontsize=18)\n",
      "\n",
      "# Adjust the page layout filling the page using the new tight_layout command\n",
      "tight_layout(pad=0.5)\n",
      "\n",
      "# save the figure as a high-res pdf in the current folder\n",
      "# It's saved at the original 6x4 size\n",
      "# savefig('Prob_2p29.pdf')\n",
      "\n",
      "fig.set_size_inches(9,6) # Resize the figure for better display in the notebook"
     ],
     "language": "python",
     "metadata": {},
     "outputs": [
      {
       "metadata": {},
       "output_type": "display_data",
       "png": "[encoded data removed]",
       "text": [
        "<matplotlib.figure.Figure at 0x10ea68fd0>"
       ]
      }
     ],
     "prompt_number": 8
    },
    {
     "cell_type": "markdown",
     "metadata": {},
     "source": [
      "## Problem 2.56"
     ]
    },
    {
     "cell_type": "code",
     "collapsed": false,
     "input": [
      "# We'll basically use the notebook as a calculator here\n",
      "\n",
      "y_bar = 0.02\n",
      "w = 150.0\n",
      "\n",
      "k1 = 10000\n",
      "k2 = 5000\n",
      "m = 0.5\n",
      "c = 8.66\n",
      "\n",
      "wn = np.sqrt((k1+k2)/m)\n",
      "\n",
      "z = c / (2*m*wn)\n",
      "\n",
      "xr_bar = (k2/m * (wn**2 - w**2) * y_bar)/((wn**2 - w**2)**2 + (2*z*wn)**2)\n",
      "\n",
      "xi_bar = (k2/m * (-2*z*w*wn) * y_bar)/((wn**2 - w**2)**2 + (2*z*wn)**2)\n",
      "\n",
      "first_term = w * xr_bar\n",
      "\n",
      "second_term = -w * xi_bar\n",
      "\n",
      "print '\\nThe coefficient of the first term is {:0.4f}.'.format(first_term)\n",
      "print 'The coefficient of the second term is {:0.4f}.\\n'.format(second_term)\n"
     ],
     "language": "python",
     "metadata": {},
     "outputs": [
      {
       "output_type": "stream",
       "stream": "stdout",
       "text": [
        "\n",
        "The coefficient of the first term is 4.0000.\n",
        "The coefficient of the second term is 1.3856.\n",
        "\n"
       ]
      }
     ],
     "prompt_number": 7
    }
   ],
   "metadata": {}
  }
 ]
}