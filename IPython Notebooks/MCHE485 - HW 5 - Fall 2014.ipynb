{
 "metadata": {
  "name": "",
  "signature": "sha256:c9b14ccd92787299883914f6122fbcf98d4a0e140ef08411b1212246dc8e595d"
 },
 "nbformat": 3,
 "nbformat_minor": 0,
 "worksheets": [
  {
   "cells": [
    {
     "cell_type": "markdown",
     "metadata": {},
     "source": [
      "<h1 style=\"text-align:center\">Homework 5 Helper</h1>\n",
      "<h3 style=\"text-align:center\"> MCHE 485: Mechanical Vibrations &mdash; Fall 2014</h3> \n",
      "<p style=\"text-align:center\">Dr. Joshua Vaughan <br>\n",
      "<a href=\"mailto:joshua.vaughan@louisiana.edu\">joshua.vaughan@louisiana.edu</a><br>\n",
      "http://www.ucs.louisiana.edu/~jev9637/   </p>"
     ]
    },
    {
     "cell_type": "code",
     "collapsed": false,
     "input": [
      "import numpy as np              # Grab all of the NumPy functions with nickname np"
     ],
     "language": "python",
     "metadata": {},
     "outputs": [],
     "prompt_number": 31
    },
    {
     "cell_type": "code",
     "collapsed": false,
     "input": [
      "# We want our plots to be displayed inline, not in a separate window\n",
      "%matplotlib inline \n",
      "\n",
      "# Import the plotting functions \n",
      "#  Note: Using the 'from module import *' notation is usually a bad idea. \n",
      "from matplotlib.pyplot import *"
     ],
     "language": "python",
     "metadata": {},
     "outputs": [],
     "prompt_number": 32
    },
    {
     "cell_type": "code",
     "collapsed": false,
     "input": [
      "# We'll use the scipy version of the linear algebra\n",
      "from scipy import linalg"
     ],
     "language": "python",
     "metadata": {},
     "outputs": [],
     "prompt_number": 33
    },
    {
     "cell_type": "code",
     "collapsed": false,
     "input": [
      "# Let's also improve the printing of NumPy arrays.\n",
      "np.set_printoptions(precision=3, suppress=True)"
     ],
     "language": "python",
     "metadata": {},
     "outputs": [],
     "prompt_number": 34
    },
    {
     "cell_type": "markdown",
     "metadata": {},
     "source": [
      "## Problem 4.1"
     ]
    },
    {
     "cell_type": "code",
     "collapsed": false,
     "input": [
      "m1 = 0.001    # kg\n",
      "m2 = 0.01     # kg\n",
      "k1 = 3000.0   # N/m\n",
      "k2 = 3000.0   # N/m\n",
      "\n",
      "M = np.array([[m1, 0],\n",
      "                [ 0, m2]])\n",
      "\n",
      "K = np.array([[ 2*k1, -2*k1],\n",
      "              [-2*k1, 2*k1 + k2]])"
     ],
     "language": "python",
     "metadata": {},
     "outputs": [],
     "prompt_number": 35
    },
    {
     "cell_type": "code",
     "collapsed": false,
     "input": [
      "# Now solve for the eigenvalues and eigenvectors\n",
      "eigenvals, eigenvects = linalg.eigh(K,M)"
     ],
     "language": "python",
     "metadata": {},
     "outputs": [],
     "prompt_number": 36
    },
    {
     "cell_type": "code",
     "collapsed": false,
     "input": [
      "print '\\n'\n",
      "print 'The resulting eigenalues are {:.2f} and {:.2f}.'.format(eigenvals[0], eigenvals[1])\n",
      "print '\\n'\n",
      "print 'So the two natrual frequencies are {:.2f}rad/s and {:.2f}rad/s.'.format(np.sqrt(eigenvals[0]), np.sqrt(eigenvals[1]))\n",
      "print '\\n'\n",
      "print 'The first eigenvector is ' + str(eigenvects[:,0]) + '.'\n",
      "print '\\n'\n",
      "print 'The second eigenvector is ' + str(eigenvects[:,1]) + '.'\n",
      "print '\\n'"
     ],
     "language": "python",
     "metadata": {},
     "outputs": [
      {
       "output_type": "stream",
       "stream": "stdout",
       "text": [
        "\n",
        "\n",
        "The resulting eigenalues are 271556.98 and 6628443.02.\n",
        "\n",
        "\n",
        "So the two natrual frequencies are 521.11rad/s and 2574.58rad/s.\n",
        "\n",
        "\n",
        "The first eigenvector is [-9.943 -9.493].\n",
        "\n",
        "\n",
        "The second eigenvector is [-30.019   3.144].\n",
        "\n",
        "\n"
       ]
      }
     ],
     "prompt_number": 37
    },
    {
     "cell_type": "markdown",
     "metadata": {},
     "source": [
      "The eigenvectors that most software packages return (including this one) are already normalized. We'll discuss normalization in Section 4.7. For now, we can scale the eigenvectors to match what we would probably get from a \"hand\" solution. You could repeat this for the other problems. I will not."
     ]
    },
    {
     "cell_type": "code",
     "collapsed": false,
     "input": [
      "# Scale each so that the first entry is 1.\n",
      "\n",
      "first_eigenVector = eigenvects[:,0] / eigenvects[0,0]\n",
      "\n",
      "print '\\n'\n",
      "print 'The non-normalized version of the first eignevector is {}.'.format(first_eigenVector)\n",
      "\n",
      "\n",
      "# Now do the same for the second eigenvecotr\n",
      "second_eigenVector = eigenvects[:,1] / eigenvects[0,1]\n",
      "\n",
      "print '\\n'\n",
      "print 'The non-normalized version of the second eignevector is {}.'.format(second_eigenVector)\n",
      "print '\\n'"
     ],
     "language": "python",
     "metadata": {},
     "outputs": [
      {
       "output_type": "stream",
       "stream": "stdout",
       "text": [
        "\n",
        "\n",
        "The non-normalized version of the first eignevector is [ 1.     0.052].\n",
        "\n",
        "\n",
        "The non-normalized version of the second eignevector is [ 1.    -7.288].\n",
        "\n",
        "\n"
       ]
      }
     ],
     "prompt_number": 51
    },
    {
     "cell_type": "markdown",
     "metadata": {},
     "source": [
      "## Problem 4.8\n"
     ]
    },
    {
     "cell_type": "code",
     "collapsed": false,
     "input": [
      "m1 = 2.0     # kg\n",
      "m2 = 0.02    # kg\n",
      "m3 = 2.0     # kg\n",
      "\n",
      "k1 = 1000.0  # N/m\n",
      "k2 = 20.0    # N/m\n",
      "k3 = 2000.0  # N/m\n",
      "k4 = 20.0    # N/m\n",
      "k5 = 1000.0  # N/m\n",
      "\n",
      "M = np.array([[m1,  0,  0],\n",
      "              [ 0, m2,  0],\n",
      "              [ 0,  0, m3]])\n",
      "\n",
      "K = np.array([[k1 + k2 + k3,    -k2,          -k3],\n",
      "              [-k2,           k2+k4,          -k4],\n",
      "              [-k3,             -k4, k3 + k4 + k5]])"
     ],
     "language": "python",
     "metadata": {},
     "outputs": [],
     "prompt_number": 39
    },
    {
     "cell_type": "code",
     "collapsed": false,
     "input": [
      "# Now solve for the eigenvalues and eigenvectors\n",
      "eigenvals, eigenvects = linalg.eigh(K,M)"
     ],
     "language": "python",
     "metadata": {},
     "outputs": [],
     "prompt_number": 40
    },
    {
     "cell_type": "code",
     "collapsed": false,
     "input": [
      "print '\\n'\n",
      "print 'The resulting eigenalues are {:.2f}, {:.2f}, and {:.2f}.'.format(eigenvals[0], eigenvals[1], eigenvals[2])\n",
      "print '\\n'\n",
      "print 'So the three natrual frequencies are {:.2f}rad/s, {:.2f}rad/s, and {:.2f}rad/s.'.format(np.sqrt(eigenvals[0]), \n",
      "                                                                                             np.sqrt(eigenvals[1]),\n",
      "                                                                                             np.sqrt(eigenvals[2]))\n",
      "print '\\n'\n",
      "print 'The first eigenvector is ' + str(eigenvects[:,0]) + '.'\n",
      "print '\\n'\n",
      "print 'The second eigenvector is ' + str(eigenvects[:,1]) + '.'\n",
      "print '\\n'\n",
      "print 'The third eigenvector is ' + str(eigenvects[:,2]) + '.'\n",
      "print '\\n'"
     ],
     "language": "python",
     "metadata": {},
     "outputs": [
      {
       "output_type": "stream",
       "stream": "stdout",
       "text": [
        "\n",
        "\n",
        "The resulting eigenalues are 496.70, 2013.30, and 2510.00.\n",
        "\n",
        "\n",
        "So the three natrual frequencies are 22.29rad/s, 44.87rad/s, and 50.10rad/s.\n",
        "\n",
        "\n",
        "The first eigenvector is [ 0.498  0.662  0.498].\n",
        "\n",
        "\n",
        "The second eigenvector is [-0.047  7.04  -0.047].\n",
        "\n",
        "\n",
        "The third eigenvector is [-0.5  0.   0.5].\n",
        "\n",
        "\n"
       ]
      }
     ],
     "prompt_number": 42
    },
    {
     "cell_type": "markdown",
     "metadata": {},
     "source": [
      "## Problem 4.9"
     ]
    },
    {
     "cell_type": "code",
     "collapsed": false,
     "input": [
      "m1 = 2.0      # kg\n",
      "m2 = 2.0      # kg\n",
      "l1 = 1.0      # m\n",
      "l2 = 1.5      # m\n",
      "g = 9.81      # m/s^2\n",
      "\n",
      "M = np.array([[(m1 + m2) * l1**2,   0.5 * m2 * l1 * l2],\n",
      "              [0.5 * m2 * l1 * l2,         m2 * l2**2]])\n",
      "\n",
      "K = np.array([[(m1 + m2) * g * l1,           0.0],\n",
      "              [0.0,                  m2 * g * l2]])"
     ],
     "language": "python",
     "metadata": {},
     "outputs": [],
     "prompt_number": 54
    },
    {
     "cell_type": "code",
     "collapsed": false,
     "input": [
      "# Now solve for the eigenvalues and eigenvectors\n",
      "eigenvals, eigenvects = linalg.eigh(K,M)\n",
      "\n",
      "print '\\n'\n",
      "print 'The resulting eigenalues are {:.2f} and {:.2f}.'.format(eigenvals[0], eigenvals[1])\n",
      "print '\\n'\n",
      "print 'So the two natrual frequencies are {:.2f}rad/s and {:.2f}rad/s.'.format(np.sqrt(eigenvals[0]), np.sqrt(eigenvals[1]))\n",
      "print '\\n'\n",
      "print 'The first eigenvector is ' + str(eigenvects[:,0]) + '.'\n",
      "print '\\n'\n",
      "print 'The second eigenvector is ' + str(eigenvects[:,1]) + '.'\n",
      "print '\\n'"
     ],
     "language": "python",
     "metadata": {},
     "outputs": [
      {
       "output_type": "stream",
       "stream": "stdout",
       "text": [
        "\n",
        "\n",
        "The resulting eigenalues are 5.61 and 13.08.\n",
        "\n",
        "\n",
        "So the two natrual frequencies are 2.37rad/s and 3.62rad/s.\n",
        "\n",
        "\n",
        "The first eigenvector is [-0.189 -0.378].\n",
        "\n",
        "\n",
        "The second eigenvector is [-0.5    0.333].\n",
        "\n",
        "\n"
       ]
      }
     ],
     "prompt_number": 55
    },
    {
     "cell_type": "markdown",
     "metadata": {},
     "source": [
      "## Problem 4.11"
     ]
    },
    {
     "cell_type": "code",
     "collapsed": false,
     "input": [
      "m1 = 30.0     # kg\n",
      "m2 = 2.0      # kg\n",
      "k = 15.0     # N/m\n",
      "l = 2.0       # m\n",
      "g = 9.81      # m/s^2\n",
      "\n",
      "M = np.array([[m1 + m2,   m2 * l],\n",
      "              [m2 * l, m2 * l**2]])\n",
      "\n",
      "K = np.array([[k,          0.0],\n",
      "              [0.0, m2 * g * l]])"
     ],
     "language": "python",
     "metadata": {},
     "outputs": [],
     "prompt_number": 57
    },
    {
     "cell_type": "code",
     "collapsed": false,
     "input": [
      "# Now solve for the eigenvalues and eigenvectors\n",
      "eigenvals, eigenvects = linalg.eigh(K,M)\n",
      "\n",
      "print '\\n'\n",
      "print 'The resulting eigenalues are {:.2f} and {:.2f}.'.format(eigenvals[0], eigenvals[1])\n",
      "print '\\n'\n",
      "print 'So the two natrual frequencies are {:.2f}rad/s and {:.2f}rad/s.'.format(np.sqrt(eigenvals[0]), np.sqrt(eigenvals[1]))\n",
      "print '\\n'\n",
      "print 'The first eigenvector is ' + str(eigenvects[:,0]) + '.'\n",
      "print '\\n'\n",
      "print 'The second eigenvector is ' + str(eigenvects[:,1]) + '.'\n",
      "print '\\n'"
     ],
     "language": "python",
     "metadata": {},
     "outputs": [
      {
       "output_type": "stream",
       "stream": "stdout",
       "text": [
        "\n",
        "\n",
        "The resulting eigenalues are 0.47 and 5.27.\n",
        "\n",
        "\n",
        "So the two natrual frequencies are 0.68rad/s and 2.29rad/s.\n",
        "\n",
        "\n",
        "The first eigenvector is [-0.176 -0.009].\n",
        "\n",
        "\n",
        "The second eigenvector is [-0.05   0.365].\n",
        "\n",
        "\n"
       ]
      }
     ],
     "prompt_number": 58
    },
    {
     "cell_type": "markdown",
     "metadata": {},
     "source": [
      "## Problem 4.56"
     ]
    },
    {
     "cell_type": "code",
     "collapsed": false,
     "input": [],
     "language": "python",
     "metadata": {},
     "outputs": []
    }
   ],
   "metadata": {}
  }
 ]
}