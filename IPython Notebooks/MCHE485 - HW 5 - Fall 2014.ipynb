{
 "metadata": {
  "name": "",
  "signature": "sha256:9b2c8a09222a97944f247b8d90befec4603dc0ed41cc49815114f5895ec213c4"
 },
 "nbformat": 3,
 "nbformat_minor": 0,
 "worksheets": [
  {
   "cells": [
    {
     "cell_type": "markdown",
     "metadata": {},
     "source": [
      "<h1 style=\"text-align:center\">Homework 5 Helper</h1>\n",
      "<h3 style=\"text-align:center\"> MCHE 485: Mechanical Vibrations &mdash; Fall 2014</h3> \n",
      "<p style=\"text-align:center\">Dr. Joshua Vaughan <br>\n",
      "<a href=\"mailto:joshua.vaughan@louisiana.edu\">joshua.vaughan@louisiana.edu</a><br>\n",
      "http://www.ucs.louisiana.edu/~jev9637/   </p>"
     ]
    },
    {
     "cell_type": "code",
     "collapsed": false,
     "input": [
      "import numpy as np              # Grab all of the NumPy functions with nickname np"
     ],
     "language": "python",
     "metadata": {},
     "outputs": [],
     "prompt_number": 1
    },
    {
     "cell_type": "code",
     "collapsed": false,
     "input": [
      "# We want our plots to be displayed inline, not in a separate window\n",
      "%matplotlib inline \n",
      "\n",
      "# Import the plotting functions \n",
      "#  Note: Using the 'from module import *' notation is usually a bad idea. \n",
      "from matplotlib.pyplot import *"
     ],
     "language": "python",
     "metadata": {},
     "outputs": [],
     "prompt_number": 2
    },
    {
     "cell_type": "code",
     "collapsed": false,
     "input": [
      "# We'll use the scipy version of the linear algebra\n",
      "from scipy import linalg"
     ],
     "language": "python",
     "metadata": {},
     "outputs": [],
     "prompt_number": 3
    },
    {
     "cell_type": "code",
     "collapsed": false,
     "input": [
      "# Let's also improve the printing of NumPy arrays.\n",
      "np.set_printoptions(precision=3, suppress=True)"
     ],
     "language": "python",
     "metadata": {},
     "outputs": [],
     "prompt_number": 4
    },
    {
     "cell_type": "markdown",
     "metadata": {},
     "source": [
      "## Problem 4.1"
     ]
    },
    {
     "cell_type": "code",
     "collapsed": false,
     "input": [
      "m1 = 0.001    # kg\n",
      "m2 = 0.01     # kg\n",
      "k1 = 3000.0   # N/m\n",
      "k2 = 3000.0   # N/m\n",
      "\n",
      "M = np.array([[m1, 0],\n",
      "                [ 0, m2]])\n",
      "\n",
      "K = np.array([[ 2*k1, -2*k1],\n",
      "              [-2*k1, 2*k1 + k2]])"
     ],
     "language": "python",
     "metadata": {},
     "outputs": [],
     "prompt_number": 5
    },
    {
     "cell_type": "code",
     "collapsed": false,
     "input": [
      "# Now solve for the eigenvalues and eigenvectors\n",
      "eigenvals, eigenvects = linalg.eigh(K,M)"
     ],
     "language": "python",
     "metadata": {},
     "outputs": [],
     "prompt_number": 6
    },
    {
     "cell_type": "code",
     "collapsed": false,
     "input": [
      "print '\\n'\n",
      "print 'The resulting eigenalues are {:.2f} and {:.2f}.'.format(eigenvals[0], eigenvals[1])\n",
      "print '\\n'\n",
      "print 'So the two natrual frequencies are {:.2f}rad/s and {:.2f}rad/s.'.format(np.sqrt(eigenvals[0]), np.sqrt(eigenvals[1]))\n",
      "print '\\n'\n",
      "print 'The first eigenvector is ' + str(eigenvects[:,0]) + '.'\n",
      "print '\\n'\n",
      "print 'The second eigenvector is ' + str(eigenvects[:,1]) + '.'\n",
      "print '\\n'"
     ],
     "language": "python",
     "metadata": {},
     "outputs": [
      {
       "output_type": "stream",
       "stream": "stdout",
       "text": [
        "\n",
        "\n",
        "The resulting eigenalues are 271556.98 and 6628443.02.\n",
        "\n",
        "\n",
        "So the two natrual frequencies are 521.11rad/s and 2574.58rad/s.\n",
        "\n",
        "\n",
        "The first eigenvector is [-9.943 -9.493].\n",
        "\n",
        "\n",
        "The second eigenvector is [-30.019   3.144].\n",
        "\n",
        "\n"
       ]
      }
     ],
     "prompt_number": 7
    },
    {
     "cell_type": "markdown",
     "metadata": {},
     "source": [
      "The eigenvectors that most software packages return (including this one) are already normalized. We'll discuss normalization in Section 4.7. For now, we can scale the eigenvectors to match what we would probably get from a \"hand\" solution. You could repeat this for the other problems. I will not."
     ]
    },
    {
     "cell_type": "code",
     "collapsed": false,
     "input": [
      "# Scale each so that the first entry is 1.\n",
      "\n",
      "first_eigenVector = eigenvects[:,0] / eigenvects[0,0]\n",
      "\n",
      "print '\\n'\n",
      "print 'The non-normalized version of the first eignevector is {}.'.format(first_eigenVector)\n",
      "\n",
      "\n",
      "# Now do the same for the second eigenvecotr\n",
      "second_eigenVector = eigenvects[:,1] / eigenvects[0,1]\n",
      "\n",
      "print '\\n'\n",
      "print 'The non-normalized version of the second eignevector is {}.'.format(second_eigenVector)\n",
      "print '\\n'"
     ],
     "language": "python",
     "metadata": {},
     "outputs": [
      {
       "output_type": "stream",
       "stream": "stdout",
       "text": [
        "\n",
        "\n",
        "The non-normalized version of the first eignevector is [ 1.     0.955].\n",
        "\n",
        "\n",
        "The non-normalized version of the second eignevector is [ 1.    -0.105].\n",
        "\n",
        "\n"
       ]
      }
     ],
     "prompt_number": 8
    },
    {
     "cell_type": "markdown",
     "metadata": {},
     "source": [
      "## Problem 4.8\n"
     ]
    },
    {
     "cell_type": "code",
     "collapsed": false,
     "input": [
      "m1 = 2.0     # kg\n",
      "m2 = 0.02    # kg\n",
      "m3 = 2.0     # kg\n",
      "\n",
      "k1 = 1000.0  # N/m\n",
      "k2 = 20.0    # N/m\n",
      "k3 = 2000.0  # N/m\n",
      "k4 = 20.0    # N/m\n",
      "k5 = 1000.0  # N/m\n",
      "\n",
      "M = np.array([[m1,  0,  0],\n",
      "              [ 0, m2,  0],\n",
      "              [ 0,  0, m3]])\n",
      "\n",
      "K = np.array([[k1 + k2 + k3,    -k2,          -k3],\n",
      "              [-k2,           k2+k4,          -k4],\n",
      "              [-k3,             -k4, k3 + k4 + k5]])"
     ],
     "language": "python",
     "metadata": {},
     "outputs": [],
     "prompt_number": 9
    },
    {
     "cell_type": "code",
     "collapsed": false,
     "input": [
      "# Now solve for the eigenvalues and eigenvectors\n",
      "eigenvals, eigenvects = linalg.eigh(K,M)"
     ],
     "language": "python",
     "metadata": {},
     "outputs": [],
     "prompt_number": 10
    },
    {
     "cell_type": "code",
     "collapsed": false,
     "input": [
      "print '\\n'\n",
      "print 'The resulting eigenalues are {:.2f}, {:.2f}, and {:.2f}.'.format(eigenvals[0], eigenvals[1], eigenvals[2])\n",
      "print '\\n'\n",
      "print 'So the three natrual frequencies are {:.2f}rad/s, {:.2f}rad/s, and {:.2f}rad/s.'.format(np.sqrt(eigenvals[0]), \n",
      "                                                                                             np.sqrt(eigenvals[1]),\n",
      "                                                                                             np.sqrt(eigenvals[2]))\n",
      "print '\\n'\n",
      "print 'The first eigenvector is ' + str(eigenvects[:,0]) + '.'\n",
      "print '\\n'\n",
      "print 'The second eigenvector is ' + str(eigenvects[:,1]) + '.'\n",
      "print '\\n'\n",
      "print 'The third eigenvector is ' + str(eigenvects[:,2]) + '.'\n",
      "print '\\n'"
     ],
     "language": "python",
     "metadata": {},
     "outputs": [
      {
       "output_type": "stream",
       "stream": "stdout",
       "text": [
        "\n",
        "\n",
        "The resulting eigenalues are 496.70, 2013.30, and 2510.00.\n",
        "\n",
        "\n",
        "So the three natrual frequencies are 22.29rad/s, 44.87rad/s, and 50.10rad/s.\n",
        "\n",
        "\n",
        "The first eigenvector is [ 0.498  0.662  0.498].\n",
        "\n",
        "\n",
        "The second eigenvector is [-0.047  7.04  -0.047].\n",
        "\n",
        "\n",
        "The third eigenvector is [-0.5  0.   0.5].\n",
        "\n",
        "\n"
       ]
      }
     ],
     "prompt_number": 11
    },
    {
     "cell_type": "markdown",
     "metadata": {},
     "source": [
      "## Problem 4.9"
     ]
    },
    {
     "cell_type": "code",
     "collapsed": false,
     "input": [
      "m1 = 2.0      # kg\n",
      "m2 = 2.0      # kg\n",
      "l1 = 1.0      # m\n",
      "l2 = 1.5      # m\n",
      "g = 9.81      # m/s^2\n",
      "\n",
      "M = np.array([[(m1 + m2) * l1**2,   0.5 * m2 * l1 * l2],\n",
      "              [0.5 * m2 * l1 * l2,         m2 * l2**2]])\n",
      "\n",
      "K = np.array([[(m1 + m2) * g * l1,           0.0],\n",
      "              [0.0,                  m2 * g * l2]])"
     ],
     "language": "python",
     "metadata": {},
     "outputs": [],
     "prompt_number": 12
    },
    {
     "cell_type": "code",
     "collapsed": false,
     "input": [
      "# Now solve for the eigenvalues and eigenvectors\n",
      "eigenvals, eigenvects = linalg.eigh(K,M)\n",
      "\n",
      "print '\\n'\n",
      "print 'The resulting eigenalues are {:.2f} and {:.2f}.'.format(eigenvals[0], eigenvals[1])\n",
      "print '\\n'\n",
      "print 'So the two natrual frequencies are {:.2f}rad/s and {:.2f}rad/s.'.format(np.sqrt(eigenvals[0]), np.sqrt(eigenvals[1]))\n",
      "print '\\n'\n",
      "print 'The first eigenvector is ' + str(eigenvects[:,0]) + '.'\n",
      "print '\\n'\n",
      "print 'The second eigenvector is ' + str(eigenvects[:,1]) + '.'\n",
      "print '\\n'"
     ],
     "language": "python",
     "metadata": {},
     "outputs": [
      {
       "output_type": "stream",
       "stream": "stdout",
       "text": [
        "\n",
        "\n",
        "The resulting eigenalues are 5.61 and 13.08.\n",
        "\n",
        "\n",
        "So the two natrual frequencies are 2.37rad/s and 3.62rad/s.\n",
        "\n",
        "\n",
        "The first eigenvector is [-0.189 -0.378].\n",
        "\n",
        "\n",
        "The second eigenvector is [-0.5    0.333].\n",
        "\n",
        "\n"
       ]
      }
     ],
     "prompt_number": 13
    },
    {
     "cell_type": "markdown",
     "metadata": {},
     "source": [
      "## Problem 4.11"
     ]
    },
    {
     "cell_type": "code",
     "collapsed": false,
     "input": [
      "m1 = 30.0     # kg\n",
      "m2 = 2.0      # kg\n",
      "k = 15.0     # N/m\n",
      "l = 2.0       # m\n",
      "g = 9.81      # m/s^2\n",
      "\n",
      "M = np.array([[m1 + m2,   m2 * l],\n",
      "              [m2 * l, m2 * l**2]])\n",
      "\n",
      "K = np.array([[k,          0.0],\n",
      "              [0.0, m2 * g * l]])"
     ],
     "language": "python",
     "metadata": {},
     "outputs": [],
     "prompt_number": 14
    },
    {
     "cell_type": "code",
     "collapsed": false,
     "input": [
      "# Now solve for the eigenvalues and eigenvectors\n",
      "eigenvals, eigenvects = linalg.eigh(K,M)\n",
      "\n",
      "print '\\n'\n",
      "print 'The resulting eigenalues are {:.2f} and {:.2f}.'.format(eigenvals[0], eigenvals[1])\n",
      "print '\\n'\n",
      "print 'So the two natrual frequencies are {:.2f}rad/s and {:.2f}rad/s.'.format(np.sqrt(eigenvals[0]), np.sqrt(eigenvals[1]))\n",
      "print '\\n'\n",
      "print 'The first eigenvector is ' + str(eigenvects[:,0]) + '.'\n",
      "print '\\n'\n",
      "print 'The second eigenvector is ' + str(eigenvects[:,1]) + '.'\n",
      "print '\\n'"
     ],
     "language": "python",
     "metadata": {},
     "outputs": [
      {
       "output_type": "stream",
       "stream": "stdout",
       "text": [
        "\n",
        "\n",
        "The resulting eigenalues are 0.47 and 5.27.\n",
        "\n",
        "\n",
        "So the two natrual frequencies are 0.68rad/s and 2.29rad/s.\n",
        "\n",
        "\n",
        "The first eigenvector is [-0.176 -0.009].\n",
        "\n",
        "\n",
        "The second eigenvector is [-0.05   0.365].\n",
        "\n",
        "\n"
       ]
      }
     ],
     "prompt_number": 15
    },
    {
     "cell_type": "markdown",
     "metadata": {},
     "source": [
      "## Problem 4.56\n",
      "Let's solve this one using [SymPy](http://sympy.org/en/index.html), the python symbolic math library."
     ]
    },
    {
     "cell_type": "code",
     "collapsed": false,
     "input": [
      "# First import sympy\n",
      "import sympy\n",
      "\n",
      "# initialize \"pretty printing\" for sympy\n",
      "sympy.init_printing()"
     ],
     "language": "python",
     "metadata": {},
     "outputs": [],
     "prompt_number": 16
    },
    {
     "cell_type": "code",
     "collapsed": false,
     "input": [
      "I0, m, k1, k2, a, f, l = sympy.symbols(['I_0','m','k_1','k_2','a', 'f', 'l'], real=True, positive=True)\n",
      "\n",
      "# define wi2, we'll use it to represent the eignevalues w_i^2\n",
      "w = sympy.symbols('\\omega')"
     ],
     "language": "python",
     "metadata": {},
     "outputs": [],
     "prompt_number": 17
    },
    {
     "cell_type": "code",
     "collapsed": false,
     "input": [
      "M = sympy.Matrix([[I0, 0],\n",
      "                  [0,  m]])\n",
      "\n",
      "K = sympy.Matrix([[-(k2-k1) * a**2, -k2*a],\n",
      "                  [-k2*a, k2]])\n",
      "\n",
      "F = sympy.Matrix([[f*l],[0]])"
     ],
     "language": "python",
     "metadata": {},
     "outputs": [],
     "prompt_number": 18
    },
    {
     "cell_type": "code",
     "collapsed": false,
     "input": [
      "# Define A = K - w^2 M\n",
      "A = K - w**2 * M\n",
      "A"
     ],
     "language": "python",
     "metadata": {},
     "outputs": [
      {
       "latex": [
        "$$\\left[\\begin{matrix}- I_{0} \\omega^{2} + a^{2} \\left(k_{1} - k_{2}\\right) & - a k_{2}\\\\- a k_{2} & - \\omega^{2} m + k_{2}\\end{matrix}\\right]$$"
       ],
       "metadata": {},
       "output_type": "pyout",
       "png": "[encoded data removed]",
       "prompt_number": 19,
       "text": [
        "\u23a1           2    2                            \u23a4\n",
        "\u23a2- I\u2080\u22c5\\omega  + a \u22c5(k\u2081 - k\u2082)       -a\u22c5k\u2082      \u23a5\n",
        "\u23a2                                             \u23a5\n",
        "\u23a2                                     2       \u23a5\n",
        "\u23a3           -a\u22c5k\u2082             - \\omega \u22c5m + k\u2082\u23a6"
       ]
      }
     ],
     "prompt_number": 19
    },
    {
     "cell_type": "code",
     "collapsed": false,
     "input": [
      "sympy.simplify(A.inv() * F)"
     ],
     "language": "python",
     "metadata": {},
     "outputs": [
      {
       "latex": [
        "$$\\left[\\begin{matrix}\\frac{f l \\left(\\omega^{2} m - k_{2}\\right)}{- I_{0} \\omega^{4} m + I_{0} \\omega^{2} k_{2} + \\omega^{2} a^{2} k_{1} m - \\omega^{2} a^{2} k_{2} m - a^{2} k_{1} k_{2} + 2 a^{2} k_{2}^{2}}\\\\- \\frac{a f k_{2} l}{a^{2} k_{2}^{2} - \\left(I_{0} \\omega^{2} - a^{2} \\left(k_{1} - k_{2}\\right)\\right) \\left(\\omega^{2} m - k_{2}\\right)}\\end{matrix}\\right]$$"
       ],
       "metadata": {},
       "output_type": "pyout",
       "png": "[encoded data removed]",
       "prompt_number": 20,
       "text": [
        "\u23a1                                      \u239b      2       \u239e                       \n",
        "\u23a2                                  f\u22c5l\u22c5\u239d\\omega \u22c5m - k\u2082\u23a0                       \n",
        "\u23a2\u2500\u2500\u2500\u2500\u2500\u2500\u2500\u2500\u2500\u2500\u2500\u2500\u2500\u2500\u2500\u2500\u2500\u2500\u2500\u2500\u2500\u2500\u2500\u2500\u2500\u2500\u2500\u2500\u2500\u2500\u2500\u2500\u2500\u2500\u2500\u2500\u2500\u2500\u2500\u2500\u2500\u2500\u2500\u2500\u2500\u2500\u2500\u2500\u2500\u2500\u2500\u2500\u2500\u2500\u2500\u2500\u2500\u2500\u2500\u2500\u2500\u2500\u2500\u2500\u2500\u2500\u2500\u2500\u2500\u2500\u2500\u2500\u2500\u2500\u2500\u2500\u2500\n",
        "\u23a2           4              2            2  2              2  2         2      \n",
        "\u23a2- I\u2080\u22c5\\omega \u22c5m + I\u2080\u22c5\\omega \u22c5k\u2082 + \\omega \u22c5a \u22c5k\u2081\u22c5m - \\omega \u22c5a \u22c5k\u2082\u22c5m - a \u22c5k\u2081\u22c5k\u2082\n",
        "\u23a2                                                                             \n",
        "\u23a2                                       -a\u22c5f\u22c5k\u2082\u22c5l                             \n",
        "\u23a2                 \u2500\u2500\u2500\u2500\u2500\u2500\u2500\u2500\u2500\u2500\u2500\u2500\u2500\u2500\u2500\u2500\u2500\u2500\u2500\u2500\u2500\u2500\u2500\u2500\u2500\u2500\u2500\u2500\u2500\u2500\u2500\u2500\u2500\u2500\u2500\u2500\u2500\u2500\u2500\u2500\u2500\u2500\u2500\u2500\u2500\u2500\u2500\u2500\u2500\u2500\u2500\u2500\u2500       \n",
        "\u23a2                  2   2   \u239b         2    2          \u239e \u239b      2       \u239e       \n",
        "\u23a3                 a \u22c5k\u2082  - \u239dI\u2080\u22c5\\omega  - a \u22c5(k\u2081 - k\u2082)\u23a0\u22c5\u239d\\omega \u22c5m - k\u2082\u23a0       \n",
        "\n",
        "           \u23a4\n",
        "           \u23a5\n",
        "\u2500\u2500\u2500\u2500\u2500\u2500\u2500\u2500\u2500\u2500\u2500\u23a5\n",
        "      2   2\u23a5\n",
        " + 2\u22c5a \u22c5k\u2082 \u23a5\n",
        "           \u23a5\n",
        "           \u23a5\n",
        "           \u23a5\n",
        "           \u23a5\n",
        "           \u23a6"
       ]
      }
     ],
     "prompt_number": 20
    },
    {
     "cell_type": "code",
     "collapsed": false,
     "input": [
      "# We can multiply by the determinant to only show the numerator of the solution\n",
      "sympy.simplify(A.inv() * F * A.det()) "
     ],
     "language": "python",
     "metadata": {},
     "outputs": [
      {
       "latex": [
        "$$\\left[\\begin{matrix}f l \\left(- \\omega^{2} m + k_{2}\\right)\\\\a f k_{2} l\\end{matrix}\\right]$$"
       ],
       "metadata": {},
       "output_type": "pyout",
       "png": "[encoded data removed]",
       "prompt_number": 21,
       "text": [
        "\u23a1    \u239b        2       \u239e\u23a4\n",
        "\u23a2f\u22c5l\u22c5\u239d- \\omega \u22c5m + k\u2082\u23a0\u23a5\n",
        "\u23a2                      \u23a5\n",
        "\u23a3       a\u22c5f\u22c5k\u2082\u22c5l       \u23a6"
       ]
      }
     ],
     "prompt_number": 21
    },
    {
     "cell_type": "markdown",
     "metadata": {},
     "source": [
      "From this, we can immediately see when the spring-mass subsystem can act as a vibation absorber. For the numerator to be zero (to make $\\bar{\\theta} = 0$), we need:\n",
      "\n",
      "$$ \\frac{k_2}{m} = \\omega^2 $$\n",
      "\n",
      "So, if the frequency of the input is 10 rad\\s, then:\n",
      "\n",
      "$$ \\frac{k_2}{m} = 100 \\left(\\frac{\\mbox{rad}}{\\mbox{s}}\\right)^2 $$"
     ]
    }
   ],
   "metadata": {}
  }
 ]
}